{
 "cells": [
  {
   "cell_type": "markdown",
   "id": "c98a29d6",
   "metadata": {},
   "source": [
    "# Intro to Python 1"
   ]
  },
  {
   "cell_type": "markdown",
   "id": "af3cd318",
   "metadata": {},
   "source": [
    "### Variables"
   ]
  },
  {
   "cell_type": "code",
   "execution_count": 8,
   "id": "cc5bf3a9",
   "metadata": {},
   "outputs": [],
   "source": [
    "# Integer\n",
    "\n",
    "\n",
    "# String\n",
    "\n",
    "\n",
    "# Boolean\n",
    "\n",
    "\n",
    "# List"
   ]
  },
  {
   "cell_type": "code",
   "execution_count": 9,
   "id": "a2fcd557",
   "metadata": {},
   "outputs": [
    {
     "name": "stdout",
     "output_type": "stream",
     "text": [
      "<class 'bool'>\n"
     ]
    }
   ],
   "source": [
    "# Confirming variable types\n"
   ]
  },
  {
   "cell_type": "markdown",
   "id": "168d8ea8",
   "metadata": {},
   "source": [
    "### Operators"
   ]
  },
  {
   "cell_type": "code",
   "execution_count": null,
   "id": "d86e58ee",
   "metadata": {},
   "outputs": [],
   "source": [
    "# Addition, Subtraction, Multiplication, Division \n",
    "\n",
    "\n",
    "\n",
    "# Modulo \n"
   ]
  },
  {
   "cell_type": "markdown",
   "id": "8c023eed",
   "metadata": {},
   "source": [
    "### Logical Operators"
   ]
  },
  {
   "cell_type": "code",
   "execution_count": null,
   "id": "06f47d28",
   "metadata": {},
   "outputs": [],
   "source": [
    "# Logical AND\n",
    "\n",
    "\n",
    "# Logical OR\n",
    "\n",
    "\n",
    "# Logical NOT\n",
    "\n",
    "\n",
    "# Greater than, less than, Greater than or equal to, Less than or equal to"
   ]
  },
  {
   "cell_type": "markdown",
   "id": "3e95c32d",
   "metadata": {},
   "source": [
    "### Conditional Statements"
   ]
  },
  {
   "cell_type": "code",
   "execution_count": null,
   "id": "f8250f99",
   "metadata": {},
   "outputs": [],
   "source": [
    "# If\n",
    "\n",
    "\n",
    "# If-else\n",
    "\n",
    "\n",
    "# If-else ladder"
   ]
  },
  {
   "cell_type": "markdown",
   "id": "646a4265",
   "metadata": {},
   "source": [
    "## Exercises"
   ]
  },
  {
   "cell_type": "markdown",
   "id": "34052468",
   "metadata": {},
   "source": [
    "### 1. Write a program that can check if a number if positive, negative or zero"
   ]
  },
  {
   "cell_type": "code",
   "execution_count": null,
   "id": "951c7c5d",
   "metadata": {},
   "outputs": [],
   "source": []
  },
  {
   "cell_type": "markdown",
   "id": "c7e3d0b7",
   "metadata": {},
   "source": [
    "### 2. Write a program that can check if a given number is odd or even"
   ]
  },
  {
   "cell_type": "code",
   "execution_count": null,
   "id": "12f775d6",
   "metadata": {},
   "outputs": [],
   "source": []
  },
  {
   "cell_type": "markdown",
   "id": "56e15dd7",
   "metadata": {},
   "source": [
    "### 3. Write a program that compares two numbers and prints which one is larger"
   ]
  },
  {
   "cell_type": "code",
   "execution_count": null,
   "id": "b931628c",
   "metadata": {},
   "outputs": [],
   "source": []
  },
  {
   "cell_type": "markdown",
   "id": "f0338af9",
   "metadata": {},
   "source": [
    "### Bonus:\n",
    "\n",
    "Write a program that uses three lengths (for the three sides of a triangle), and:\n",
    "\n",
    " - Checks if it is a valid triangle\n",
    " \n",
    " - If valid, prints whether it's equilateral, isoceles, or scalene\n",
    " \n",
    " - If not a valid triangle, prints \"Not a triangle\"\n",
    " "
   ]
  },
  {
   "cell_type": "code",
   "execution_count": null,
   "id": "ee9879c8",
   "metadata": {},
   "outputs": [],
   "source": []
  }
 ],
 "metadata": {
  "kernelspec": {
   "display_name": "Python 3 (ipykernel)",
   "language": "python",
   "name": "python3"
  },
  "language_info": {
   "codemirror_mode": {
    "name": "ipython",
    "version": 3
   },
   "file_extension": ".py",
   "mimetype": "text/x-python",
   "name": "python",
   "nbconvert_exporter": "python",
   "pygments_lexer": "ipython3",
   "version": "3.11.4"
  }
 },
 "nbformat": 4,
 "nbformat_minor": 5
}
