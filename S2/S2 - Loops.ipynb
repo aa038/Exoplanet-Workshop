{
 "cells": [
  {
   "cell_type": "markdown",
   "id": "12b29205",
   "metadata": {},
   "source": [
    "# Loops"
   ]
  },
  {
   "cell_type": "markdown",
   "id": "bb1bd7c8",
   "metadata": {},
   "source": [
    "## Why do we need loops?"
   ]
  },
  {
   "cell_type": "markdown",
   "id": "fd6dc7c8",
   "metadata": {},
   "source": [
    "Assume you want to print all the numbers from 1-10. You could go:"
   ]
  },
  {
   "cell_type": "code",
   "execution_count": 1,
   "id": "f9640e7a",
   "metadata": {},
   "outputs": [
    {
     "name": "stdout",
     "output_type": "stream",
     "text": [
      "1\n",
      "2\n",
      "3\n",
      "4\n",
      "5\n",
      "6\n",
      "7\n",
      "8\n",
      "9\n",
      "10\n"
     ]
    }
   ],
   "source": [
    "print(1)\n",
    "print(2)\n",
    "print(3)\n",
    "print(4)\n",
    "print(5)\n",
    "print(6)\n",
    "print(7)\n",
    "print(8)\n",
    "print(9)\n",
    "print(10)"
   ]
  },
  {
   "cell_type": "markdown",
   "id": "338d6931",
   "metadata": {},
   "source": [
    "What if you wanted all the numbers till 1,000? I'm not typing that\n",
    "\n",
    "Instead, you write:"
   ]
  },
  {
   "cell_type": "code",
   "execution_count": null,
   "id": "f027c020",
   "metadata": {},
   "outputs": [],
   "source": [
    "# for loop \n"
   ]
  },
  {
   "cell_type": "markdown",
   "id": "181f3ad0",
   "metadata": {},
   "source": [
    "## Looping over items in a list"
   ]
  },
  {
   "cell_type": "code",
   "execution_count": 5,
   "id": "a5719ebd",
   "metadata": {},
   "outputs": [
    {
     "name": "stdout",
     "output_type": "stream",
     "text": [
      " But I would walk 500 miles, \n",
      " And I would walk 500 more, \n",
      " Just to be the man \n",
      " Who walks a thousand miles to fall down at your door "
     ]
    }
   ],
   "source": [
    "lyrics_to_500_miles = [' But', 'I', 'would', 'walk', '500', 'miles,', '\\n', 'And', 'I', 'would', 'walk', '500', 'more,', '\\n', 'Just', 'to', 'be', 'the', 'man', '\\n Who', 'walks', 'a', 'thousand', 'miles', 'to', 'fall', 'down', 'at', 'your', 'door']"
   ]
  },
  {
   "cell_type": "markdown",
   "id": "a34e45e5",
   "metadata": {},
   "source": [
    "# Exercises"
   ]
  },
  {
   "cell_type": "markdown",
   "id": "f24372c2",
   "metadata": {},
   "source": [
    "### 1. Print the squares of all numbers from 1 to 10"
   ]
  },
  {
   "cell_type": "code",
   "execution_count": null,
   "id": "f6915f40",
   "metadata": {},
   "outputs": [],
   "source": []
  },
  {
   "cell_type": "markdown",
   "id": "3d8059eb",
   "metadata": {},
   "source": [
    "### 2. Write a loop to sum the first N natural numbers"
   ]
  },
  {
   "cell_type": "code",
   "execution_count": null,
   "id": "71b44885",
   "metadata": {},
   "outputs": [],
   "source": []
  },
  {
   "cell_type": "markdown",
   "id": "c675f664",
   "metadata": {},
   "source": [
    "### 3. Write a script to print this pattern:"
   ]
  },
  {
   "cell_type": "raw",
   "id": "b4fe4f04",
   "metadata": {},
   "source": [
    "*\n",
    "**\n",
    "***\n",
    "****\n",
    "*****"
   ]
  },
  {
   "cell_type": "code",
   "execution_count": null,
   "id": "46eb5129",
   "metadata": {},
   "outputs": [],
   "source": []
  },
  {
   "cell_type": "markdown",
   "id": "3f33d9b1",
   "metadata": {},
   "source": [
    "### 4. Write a program that, given a number N, prints the sum of all odd numbers from 1 to N, and all odd numbers from 1 to N\n",
    "\n",
    "If $N = 5$, $sum_{odd} = 1 + 3 + 5 = 9$ and $sum_{even} = 2 + 4 = 6$"
   ]
  },
  {
   "cell_type": "code",
   "execution_count": null,
   "id": "c562ef09",
   "metadata": {},
   "outputs": [],
   "source": []
  },
  {
   "cell_type": "markdown",
   "id": "2d0ef9b7",
   "metadata": {},
   "source": [
    "### 5. Write a program that uses 2 numbers, N and M, and prints the numbers of multiples of M from 1 to N\n",
    "\n",
    "For example, if $N = 10$ and $M=2$, the program should print 5, since there are 5 multiples of 2 from 1 to 10 i.e. 2, 4, 6, 8, 10"
   ]
  },
  {
   "cell_type": "code",
   "execution_count": null,
   "id": "c6150b84",
   "metadata": {},
   "outputs": [],
   "source": []
  },
  {
   "cell_type": "markdown",
   "id": "3cedcadc",
   "metadata": {},
   "source": [
    "## Bonus"
   ]
  },
  {
   "cell_type": "markdown",
   "id": "1af315b0",
   "metadata": {},
   "source": [
    "### Given a list of positive integers, find the smallest positive integer that is not in the list\n",
    "\n",
    "For example:\n",
    "\n",
    "Input - [1, 2, 3, 5, 6, 9]\n",
    "\n",
    "Output - 4"
   ]
  },
  {
   "cell_type": "code",
   "execution_count": 8,
   "id": "b0afdda6",
   "metadata": {},
   "outputs": [
    {
     "name": "stdout",
     "output_type": "stream",
     "text": [
      "4\n"
     ]
    }
   ],
   "source": [
    "nums = [1,2,3,5,6,7]\n",
    "\n",
    "n = 1\n",
    "while True:\n",
    "    if n not in nums:\n",
    "        print(n)\n",
    "        break\n",
    "    n += 1\n",
    "    "
   ]
  },
  {
   "cell_type": "markdown",
   "id": "de3c6909",
   "metadata": {},
   "source": [
    "## For the hotshots"
   ]
  },
  {
   "cell_type": "markdown",
   "id": "a6af49db",
   "metadata": {},
   "source": [
    "### Find and print the first N ugly numbers. Ugly numbers are numbers whose only prime factors are 2, 3 or 5, with 1 included by convention. Eg: All numbers from 1 to 10 besides 7, 10000, 432000"
   ]
  },
  {
   "cell_type": "code",
   "execution_count": null,
   "id": "9c7137b7",
   "metadata": {},
   "outputs": [],
   "source": []
  }
 ],
 "metadata": {
  "kernelspec": {
   "display_name": "Python 3 (ipykernel)",
   "language": "python",
   "name": "python3"
  },
  "language_info": {
   "codemirror_mode": {
    "name": "ipython",
    "version": 3
   },
   "file_extension": ".py",
   "mimetype": "text/x-python",
   "name": "python",
   "nbconvert_exporter": "python",
   "pygments_lexer": "ipython3",
   "version": "3.11.4"
  }
 },
 "nbformat": 4,
 "nbformat_minor": 5
}
