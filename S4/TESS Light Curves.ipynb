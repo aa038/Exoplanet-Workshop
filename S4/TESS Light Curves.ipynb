{
 "cells": [
  {
   "cell_type": "markdown",
   "id": "84568cef",
   "metadata": {},
   "source": [
    "Well, let's hope we had a grand old time working with some simulated lightcurves yesterday\n",
    "\n",
    "Time for .... (drumroll please) ....\n",
    "\n",
    "# TESS\n",
    "\n",
    "Take a second to get to know this glorious bastard and her 7 year reign: \n",
    "https://science.nasa.gov/mission/tess/\n",
    "\n",
    "To download a TESS lightcurve on Python, you will need the $\\texttt{lightkurve}$ package.\n",
    "\n",
    "Q. Using the $\\texttt{pip}$ tool, how does one install a package on Python?"
   ]
  },
  {
   "cell_type": "markdown",
   "id": "df596e3b",
   "metadata": {},
   "source": [
    "**Before proceeding, ensure you have installed the $\\texttt{lightkurve}$ package using the $\\texttt{pip}$ tool**"
   ]
  },
  {
   "cell_type": "code",
   "execution_count": 9,
   "id": "75831be9",
   "metadata": {},
   "outputs": [],
   "source": [
    "from lightkurve import search_lightcurve\n",
    "import matplotlib.pyplot as plt\n",
    "import numpy as np"
   ]
  },
  {
   "cell_type": "code",
   "execution_count": 2,
   "id": "66ab6766",
   "metadata": {},
   "outputs": [],
   "source": [
    "# Downloading the light curve the planet pi Mensae c, one of the most famous TESS planets\n",
    "# pi Mensae c is an evaporating Super-Earth orbiting 0.07 AU away from its star, 50x closer than Mercury does\n",
    "# https://exoplanets.nasa.gov/news/1542/nasas-tess-rounds-up-its-first-planets-snares-far-flung-supernovae/\n",
    "lc_search = search_lightcurve(\"pi Mensae\", author = \"SPOC\", mission = \"TESS\", sector = 1)\n",
    "lc = lc_search.download()"
   ]
  },
  {
   "cell_type": "code",
   "execution_count": 3,
   "id": "950be674",
   "metadata": {},
   "outputs": [],
   "source": [
    "# Quick cleanup of the data. Fret not my child, for there will heaps of data reduction demons left for you to vanquish!\n",
    "lc = lc.normalize().remove_outliers()"
   ]
  },
  {
   "cell_type": "code",
   "execution_count": 27,
   "id": "d63fd26c",
   "metadata": {},
   "outputs": [
    {
     "name": "stdout",
     "output_type": "stream",
     "text": [
      "0.99999475\n"
     ]
    }
   ],
   "source": [
    "# Get the time and flux information\n",
    "time = lc.time.value\n",
    "flux = lc.flux.value"
   ]
  },
  {
   "cell_type": "code",
   "execution_count": 6,
   "id": "695bcd1b",
   "metadata": {},
   "outputs": [],
   "source": [
    "# TODO: Plot the lightcurve\n",
    "# Do you see a planet?\n",
    "# If not, please call me a liar"
   ]
  },
  {
   "cell_type": "markdown",
   "id": "23efc2f9",
   "metadata": {},
   "source": [
    "### Q. Estimate the period by eye 👀\n",
    "\n",
    "Look at the dips in the light curve — the planet is blocking light from the star once per orbit.  \n",
    "How far apart (in days) do you think those dips are?  \n",
    "Hint: the x-axis is in days.  \n",
    "\n",
    "Write your best guess below:"
   ]
  },
  {
   "cell_type": "code",
   "execution_count": 19,
   "id": "9d185195",
   "metadata": {},
   "outputs": [],
   "source": [
    "# TODO: Your estimated period (in days)\n",
    "my_estimated_period =  # e.g., 2.4"
   ]
  },
  {
   "cell_type": "markdown",
   "id": "7a36f9f3",
   "metadata": {},
   "source": [
    "“Alright legend, you’ve had a crack by eye — now let’s bring in the big guns.”"
   ]
  },
  {
   "cell_type": "markdown",
   "id": "811f8846",
   "metadata": {},
   "source": [
    "### 🧙 Enter the Box Least Squares (BLS)\n",
    "\n",
    "What you just did by eye — scanning the light curve and trying to line up dips — is exactly what BLS does, except without your mediocre, unreliable human eyes and with more math.\n",
    "\n",
    "BLS tries thousands of trial periods, folds the light curve for each, and scores how well the dips align into a nice, box-shaped transit at each period.  \n",
    "The period with the strongest signal wins. 🏆"
   ]
  },
  {
   "cell_type": "code",
   "execution_count": 16,
   "id": "e6ebfc2f",
   "metadata": {},
   "outputs": [
    {
     "name": "stdout",
     "output_type": "stream",
     "text": [
      "Best period: 6.2781 days\n"
     ]
    }
   ],
   "source": [
    "from astropy.timeseries import BoxLeastSquares\n",
    "bls = BoxLeastSquares(time, flux)\n",
    "periods = np.linspace(1, 10, 10000)\n",
    "results = bls.power(periods, 0.05)\n",
    "\n",
    "best_period = periods[np.argmax(results.power)]\n",
    "print(f\"Best period: {best_period:.4f} days\")"
   ]
  },
  {
   "cell_type": "markdown",
   "id": "9c80e2f5",
   "metadata": {},
   "source": [
    "**How close were ya?**"
   ]
  },
  {
   "cell_type": "code",
   "execution_count": 20,
   "id": "964c43d6",
   "metadata": {},
   "outputs": [
    {
     "name": "stdout",
     "output_type": "stream",
     "text": [
      "Bit rough there… off by 23.722 days. But hey, you tried.\n"
     ]
    }
   ],
   "source": [
    "diff = np.abs(best_period - my_estimated_period)\n",
    "\n",
    "if diff < 0.5:\n",
    "    print(f\"Good work! You were only off by {diff:.3f} days. Legend.\")\n",
    "elif diff < 2:\n",
    "    print(f\"Not bad! You were off by {diff:.3f} days. Not quite Bazball, but respectable.\")\n",
    "elif diff < 1000:\n",
    "    print(f\"Bit rough there… off by {diff:.3f} days. But hey, you tried.\")\n",
    "else:\n",
    "    print(\"Wtf did you smoke, son? That’s not even in the same solar system.\")"
   ]
  },
  {
   "cell_type": "markdown",
   "id": "67c0a36b",
   "metadata": {},
   "source": [
    "### 📈 Phase-fold the light curve\n",
    "\n",
    "Now that we know the period of $\\pi$ Mensae b, let’s fold the light curve on this period so all the transits line up nicely."
   ]
  },
  {
   "cell_type": "code",
   "execution_count": 26,
   "id": "14f8908c",
   "metadata": {},
   "outputs": [],
   "source": [
    "# TODO:\n",
    "# How do you convert from time to phase? Remember from yesterday?\n",
    "# Hint: It is a 2 step process.\n",
    "# 1. Convert from time to units of period\n",
    "# 2. Convert from period to the range [0,1]"
   ]
  },
  {
   "cell_type": "code",
   "execution_count": 25,
   "id": "4a752b8b",
   "metadata": {},
   "outputs": [],
   "source": [
    "# TODO:\n",
    "# Great, if you did that right, you should now have orbital phase\n",
    "# Plot the flux vs orbital phase"
   ]
  },
  {
   "cell_type": "markdown",
   "id": "410bb763",
   "metadata": {},
   "source": [
    "### 🌑 Estimate planet-to-star radius ratio\n",
    "\n",
    "Transit depth \\( $\\delta$ \\) is just how much light gets blocked during transit.\n",
    "Let’s estimate \\( $R_p / R_* = \\sqrt{\\delta}$ \\)."
   ]
  },
  {
   "cell_type": "code",
   "execution_count": null,
   "id": "2271ec9b",
   "metadata": {},
   "outputs": [],
   "source": [
    "# TODO: Use the min() function from NumPy (np.min()) to estimate the lowest value of flux\n",
    "# Use this minimum value of flux to get the transit depth"
   ]
  },
  {
   "cell_type": "code",
   "execution_count": null,
   "id": "86e46466",
   "metadata": {},
   "outputs": [],
   "source": [
    "# TODO: Using the transit depth, find the ratio of the radii of the planet and the star"
   ]
  },
  {
   "cell_type": "code",
   "execution_count": null,
   "id": "2a6abe25",
   "metadata": {},
   "outputs": [],
   "source": [
    "# TODO: Using the internet, look up the radius of the host star \n",
    "# (The planet is called pi Mensae c, implying it is planet c around the star pi Mensae)\n",
    "rStar =   # Radius of the star"
   ]
  },
  {
   "cell_type": "markdown",
   "id": "9afc4d49",
   "metadata": {},
   "source": [
    "### 🪐 Estimate the semi-major axis\n",
    "\n",
    "Kepler’s 3rd law relates the period to the distance from the star.\n",
    "\n",
    "\\begin{equation*}\n",
    "P^2 = \\frac{a^3}{M}\n",
    "\\end{equation*}\n",
    "\n",
    "where P is the orbital period of the planet in years and M is the mass of the host star in solar masses"
   ]
  },
  {
   "cell_type": "code",
   "execution_count": null,
   "id": "f109d38d",
   "metadata": {},
   "outputs": [],
   "source": [
    "# TODO: Assuming you have looked up the radius of the star, you are now ready to look up its mass\n",
    "# I believe in you mate, it is time!\n",
    "mStar =   # Mass of the star, in Solar Masses \n",
    "\n",
    "# TODO: The period you have been working with is in units of ...... \n",
    "# You need to convert it to years\n",
    "\n",
    "# TODO: Use Kepler's Third Law to find the semi-major axis of the planet\n",
    "# Semi-major axis will have units AU (Astronomical Unit, avg distance between the Earth and the Sun)"
   ]
  },
  {
   "cell_type": "markdown",
   "id": "c0ce8050",
   "metadata": {},
   "source": [
    "### 🔄Eccentricity\n",
    "\n",
    "Eccentricity is a measure of how circular a planet's orbit is. An eccentricity of 0 is a perfectly circular orbit, an eccentricity of 1 is a parabola. Anything in between is an ellipse (oval shaped weird thingo). The Earth has an eccentricity of 0.0167.\n",
    "\n",
    "Pi Mensae c has an eccentricity $e = 0.15$\n",
    "\n",
    "Given the eccentricity and semi-major axis (which you should have calculated), you can now compute how close to and far away from the star the planet gets, called periastron and apastron, respectively.\n",
    "\n",
    "\\begin{equation}\n",
    "    \\mathrm{periastron} = a(1-e)\n",
    "\\end{equation}\n",
    "\n",
    "\\begin{equation}\n",
    "    \\mathrm{apastron} = a(1+e)\n",
    "\\end{equation}"
   ]
  },
  {
   "cell_type": "code",
   "execution_count": null,
   "id": "12b95569",
   "metadata": {},
   "outputs": [],
   "source": [
    "# TODO: Using the semi-major axis and eccentricity of Pi Mensae c, compute its periastron and apastron in AU "
   ]
  },
  {
   "cell_type": "markdown",
   "id": "1cdfd249",
   "metadata": {},
   "source": [
    "### 🌡️ Equilibrium Temperature\n",
    "\n",
    "Alright hotshot, you’ve figured out how close and far π Mensae c gets to its star.  \n",
    "But how hot does it actually get? Let’s estimate the planet’s temperature at **periastron (summer)** and **apastron (winter)**.\n",
    "\n",
    "We’ll use the simple *equilibrium temperature* formula, assuming the planet is a blackbody and ignoring atmospheres (sorry greenhouse gases, not today):\n",
    "\n",
    "\\begin{equation}\n",
    "T_{\\mathrm{eq}} = T_{\\star} \\sqrt{\\frac{R_{\\star}}{2d}}\n",
    "\\end{equation}\n",
    "\n",
    "where:\n",
    "- \\( $T_\\star$ \\) = stellar effective temperature (look it up)\n",
    "- \\( $R_\\star$ \\) = stellar radius (in solar radii, but convert to AU: \\( 1$R_{\\odot}$ = 0.00465 AU \\))\n",
    "- \\( $d$ \\) = distance of planet from star (in AU — you already calculated periastron and apastron)\n",
    "\n",
    "This assumes the planet reflects no light (albedo = 0) and has perfect heat distribution.\n",
    "\n",
    "Your task:  \n",
    "Estimate \\( $T_{\\mathrm{eq}}$ \\) at **periastron** and **apastron**.  \n",
    "Write your answers in Kelvin.  "
   ]
  },
  {
   "cell_type": "code",
   "execution_count": null,
   "id": "07583608",
   "metadata": {},
   "outputs": [],
   "source": [
    "# TODO: Look up the star’s effective temperature (T_star ~5900K)\n",
    "T_star = \n",
    "\n",
    "# TODO: Convert the star’s radius to AU (R_star in solar radii * 0.00465)\n",
    "R_star = \n",
    "\n",
    "# TODO: Compute T_eq at periastron\n",
    "d_peri =  # you already computed this earlier\n",
    "T_eq_peri = T_star * np.sqrt(R_star / (2 * d_peri))\n",
    "\n",
    "# TODO: Compute T_eq at apastron\n",
    "d_apa =  # you already computed this earlier\n",
    "T_eq_apa = T_star * np.sqrt(R_star / (2 * d_apa))\n",
    "\n",
    "print(f\"At periastron: {T_eq_peri:.1f} K\")\n",
    "print(f\"At apastron:  {T_eq_apa:.1f} K\")"
   ]
  },
  {
   "cell_type": "code",
   "execution_count": null,
   "id": "356e892b",
   "metadata": {},
   "outputs": [],
   "source": [
    "# BONUS TODO: Try to plot the equilibrium temperature of the planet as a function of distance from the star, \n",
    "# from periastron to apastron\n",
    "# Solution in the cell below"
   ]
  },
  {
   "cell_type": "code",
   "execution_count": 33,
   "id": "6ab7d619",
   "metadata": {},
   "outputs": [
    {
     "data": {
      "image/png": "[encoded data removed]",
      "text/plain": [
       "<Figure size 800x500 with 1 Axes>"
      ]
     },
     "metadata": {},
     "output_type": "display_data"
    }
   ],
   "source": [
    "d_vals = np.linspace(d_peri, d_apa, 500)\n",
    "T_eq_vals = T_star * np.sqrt(R_star / (2 * d_vals))\n",
    "\n",
    "# Compute T_eq at periastron and apastron\n",
    "T_eq_peri = T_star * np.sqrt(R_star / (2 * d_peri))\n",
    "T_eq_apa  = T_star * np.sqrt(R_star / (2 * d_apa))\n",
    "\n",
    "# Plot\n",
    "plt.figure(figsize=(8,5))\n",
    "plt.plot(d_vals, T_eq_vals, label=\"Equilibrium Temperature\")\n",
    "plt.scatter([d_peri, d_apa], [T_eq_peri, T_eq_apa], color='red', zorder=5,\n",
    "            label=\"Periastron & Apastron\")\n",
    "\n",
    "plt.xlabel(\"Distance from Star [AU]\")\n",
    "plt.ylabel(\"Equilibrium Temperature [K]\")\n",
    "plt.title(\"Pi Mensae c Temperature vs Distance\")\n",
    "plt.legend()\n",
    "plt.show()"
   ]
  },
  {
   "cell_type": "code",
   "execution_count": null,
   "id": "54d14fb5",
   "metadata": {},
   "outputs": [],
   "source": []
  }
 ],
 "metadata": {
  "kernelspec": {
   "display_name": "Python 3 (ipykernel)",
   "language": "python",
   "name": "python3"
  },
  "language_info": {
   "codemirror_mode": {
    "name": "ipython",
    "version": 3
   },
   "file_extension": ".py",
   "mimetype": "text/x-python",
   "name": "python",
   "nbconvert_exporter": "python",
   "pygments_lexer": "ipython3",
   "version": "3.11.4"
  }
 },
 "nbformat": 4,
 "nbformat_minor": 5
}
