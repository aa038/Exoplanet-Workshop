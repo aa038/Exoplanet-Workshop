{
 "cells": [
  {
   "cell_type": "markdown",
   "id": "63a2b585",
   "metadata": {},
   "source": [
    "# 🚗 Radial Velocities: Stars That Wobble\n",
    "\n",
    "Well well well, you've wrangled transits. You've folded light curves like a laundry wizard.  \n",
    "Now it's time to tackle another exoplanet detection method: **Radial Velocities** (RVs).\n",
    "\n",
    "While transits are all about *light dips*, RVs are about *stellar wobbles*.  \n",
    "Because when a planet tugs on its star, that star doesn’t sit still — it pirouettes like a drunk ballerina.  \n",
    "And we can detect that motion through the Doppler shift of its spectral lines. \n",
    "\n",
    "Today, you'll work with a beautifully clean, **fake** RV dataset I made (becuase real RV data is **EXTREMELY NOISY**).  \n",
    "It is free of instrumental offsets, moonlight contamination, and referee comments.  \n",
    "This is pure, idealised planet-wobble data — a sandbox to test your orbital intuition.\n",
    "\n",
    "We'll go step by step:\n",
    "- 👀 Look at the data\n",
    "- 🧠 Guess the orbital period\n",
    "- 🔁 Phase fold\n",
    "- 🧩 Fit a sine curve\n",
    "- 🪐 Estimate the planet’s mass (well, \\($M_P\\sin i$), but you get the idea)\n",
    "\n",
    "You’ll come out the other end with a newfound respect for sinusoidal curves and possibly a PhD.\n",
    "\n",
    "Let’s get wobbling."
   ]
  },
  {
   "cell_type": "code",
   "execution_count": 24,
   "id": "3e19b45d",
   "metadata": {},
   "outputs": [],
   "source": [
    "import pandas as pd\n",
    "import numpy as np\n",
    "import matplotlib.pyplot as plt"
   ]
  },
  {
   "cell_type": "markdown",
   "id": "9440d615",
   "metadata": {},
   "source": [
    "## 📦 Step 1: Read in the data\n",
    "\n",
    "First, let’s load the RV data for our beautiful fake planet.\n",
    "\n",
    "👉 **Make sure you have downloaded the `.csv` file from GitHub and saved it in the *same directory* as your Jupyter notebook.**\n",
    "\n",
    "If the next cell throws an error, it’s because:\n",
    "1. You didn’t download the file  \n",
    "2. You saved it somewhere dumb  \n",
    "3. You spelled the filename wrong  \n",
    "4. Ben Stokes interfered\n",
    "\n",
    "Fix any of the above and try again."
   ]
  },
  {
   "cell_type": "code",
   "execution_count": 27,
   "id": "00857a6c",
   "metadata": {},
   "outputs": [
    {
     "data": {
      "text/html": [
       "<div>\n",
       "<style scoped>\n",
       "    .dataframe tbody tr th:only-of-type {\n",
       "        vertical-align: middle;\n",
       "    }\n",
       "\n",
       "    .dataframe tbody tr th {\n",
       "        vertical-align: top;\n",
       "    }\n",
       "\n",
       "    .dataframe thead th {\n",
       "        text-align: right;\n",
       "    }\n",
       "</style>\n",
       "<table border=\"1\" class=\"dataframe\">\n",
       "  <thead>\n",
       "    <tr style=\"text-align: right;\">\n",
       "      <th></th>\n",
       "      <th>time</th>\n",
       "      <th>rv</th>\n",
       "      <th>rv_err</th>\n",
       "    </tr>\n",
       "  </thead>\n",
       "  <tbody>\n",
       "    <tr>\n",
       "      <th>0</th>\n",
       "      <td>0.520282</td>\n",
       "      <td>45.715585</td>\n",
       "      <td>3.0</td>\n",
       "    </tr>\n",
       "    <tr>\n",
       "      <th>1</th>\n",
       "      <td>0.577695</td>\n",
       "      <td>47.056428</td>\n",
       "      <td>3.0</td>\n",
       "    </tr>\n",
       "    <tr>\n",
       "      <th>2</th>\n",
       "      <td>0.854320</td>\n",
       "      <td>49.999808</td>\n",
       "      <td>3.0</td>\n",
       "    </tr>\n",
       "    <tr>\n",
       "      <th>3</th>\n",
       "      <td>1.074663</td>\n",
       "      <td>48.057402</td>\n",
       "      <td>3.0</td>\n",
       "    </tr>\n",
       "    <tr>\n",
       "      <th>4</th>\n",
       "      <td>1.658587</td>\n",
       "      <td>26.446970</td>\n",
       "      <td>3.0</td>\n",
       "    </tr>\n",
       "  </tbody>\n",
       "</table>\n",
       "</div>"
      ],
      "text/plain": [
       "       time         rv  rv_err\n",
       "0  0.520282  45.715585     3.0\n",
       "1  0.577695  47.056428     3.0\n",
       "2  0.854320  49.999808     3.0\n",
       "3  1.074663  48.057402     3.0\n",
       "4  1.658587  26.446970     3.0"
      ]
     },
     "execution_count": 27,
     "metadata": {},
     "output_type": "execute_result"
    }
   ],
   "source": [
    "df = pd.read_csv('RV_Data.csv')\n",
    "df.head()"
   ]
  },
  {
   "cell_type": "markdown",
   "id": "1f279e50",
   "metadata": {},
   "source": [
    "## 📈 Step 2: Plot the data\n",
    "\n",
    "Let’s see what this star’s up to. Plot the radial velocity measurements over time, with error bars.\n",
    "\n",
    "Questions to ask yourself:\n",
    "- Does it look sinusoidal?\n",
    "- Can you spot roughly how long one “wobble” takes?\n",
    "- Is there more than one full orbit in the time range?\n",
    "\n",
    "Plot first. Interpret later."
   ]
  },
  {
   "cell_type": "code",
   "execution_count": 30,
   "id": "6c2a11f5",
   "metadata": {},
   "outputs": [],
   "source": [
    "# TODO: Extract the time and rv signal from the dataframe (df) to two separate arrays\n",
    "time = df['time']\n",
    "rv = df['rv']\n",
    "rv_err = df['rv_err']\n",
    "\n",
    "# TODO: Plot the RV Signal against time"
   ]
  },
  {
   "cell_type": "markdown",
   "id": "a20a2f5c",
   "metadata": {},
   "source": [
    "## ⏳ Step 3: Estimate the orbital period by eye\n",
    "\n",
    "Take a look at the RV curve you just plotted.  \n",
    "Each full “wave” (up + down) is one orbit.\n",
    "\n",
    "Try to eyeball the time between two consecutive peaks or troughs.  \n",
    "Write your guess below ⬇"
   ]
  },
  {
   "cell_type": "code",
   "execution_count": null,
   "id": "3921c5fc",
   "metadata": {},
   "outputs": [],
   "source": [
    "# TODO: What's your best guess for the orbital period?\n",
    "my_period = # e.g. 5.0"
   ]
  },
  {
   "cell_type": "markdown",
   "id": "840857d9",
   "metadata": {},
   "source": [
    "**Time for the big guns**"
   ]
  },
  {
   "cell_type": "code",
   "execution_count": 31,
   "id": "48a7b28c",
   "metadata": {},
   "outputs": [
    {
     "name": "stdout",
     "output_type": "stream",
     "text": [
      "Best period = 4.9524 days\n"
     ]
    }
   ],
   "source": [
    "from astropy.timeseries import LombScargle\n",
    "\n",
    "frequency, power = LombScargle(time, rv, rv_err).autopower()\n",
    "best_freq = frequency[np.argmax(power)]\n",
    "best_period = 1 / best_freq\n",
    "print(f\"Best period = {best_period:.4f} days\")"
   ]
  },
  {
   "cell_type": "code",
   "execution_count": null,
   "id": "8c61bf4e",
   "metadata": {},
   "outputs": [],
   "source": [
    "diff = np.abs(best_period - my_period)\n",
    "\n",
    "if diff < 0.3:\n",
    "    print(f\"Bang on! You were only off by {diff:.3f} days. You little orbital wizard.\")\n",
    "elif diff < 1:\n",
    "    print(f\"Close enough - off by {diff:.3f} days. Solid work, future Doppler slinger.\")\n",
    "elif diff < 3:\n",
    "    print(f\"Meh. {diff:.3f} days off. Not awful, but I wouldn't trust you with the James Webb.\")\n",
    "elif diff < 100:\n",
    "    print(f\"{diff:.3f} days off. Have you considered a career in interpretive dance instead?\")\n",
    "else:\n",
    "    print(\"That’s not even in the same galaxy. Did you guess using tea leaves?\")"
   ]
  },
  {
   "cell_type": "markdown",
   "id": "0b0dab1d",
   "metadata": {},
   "source": [
    "## 🔁 Step 4: Phase-fold the RV data\n",
    "\n",
    "Now that we’ve got the true period, let’s wrap the data around that period so all the wobbles line up nicely.\n",
    "\n",
    "We’ll convert each observation time into an **orbital phase**:\n",
    "- Phase = (time % period) / period\n",
    "\n",
    "Then we’ll plot RV vs phase and admire the siney goodness."
   ]
  },
  {
   "cell_type": "code",
   "execution_count": 32,
   "id": "50dc7e9d",
   "metadata": {},
   "outputs": [
    {
     "data": {
      "image/png": "[encoded data removed]",
      "text/plain": [
       "<Figure size 800x500 with 1 Axes>"
      ]
     },
     "metadata": {},
     "output_type": "display_data"
    }
   ],
   "source": [
    "# TODO: Convert the time array to phase\n",
    "\n",
    "\n",
    "\n",
    "# TODO: Plot the RV signal vs phase"
   ]
  },
  {
   "cell_type": "markdown",
   "id": "e3ac48dc",
   "metadata": {},
   "source": [
    "## 🧮 Step 5: Fit a sine curve to the RV data\n",
    "\n",
    "Now that you’ve seen the phase-folded wobble, let’s fit it with a model.\n",
    "\n",
    "We’ll assume a nice, circular orbit (eccentricity = 0), so the RV curve is just a sine wave:\n",
    "\\begin{equation}\n",
    "v(t) = K \\sin\\left( \\frac{2\\pi t}{P} + \\phi \\right) + \\gamma\n",
    "\\end{equation}\n",
    "\n",
    "### 🧠 What do these symbols mean?\n",
    "\n",
    "- \\( K \\): the **semi-amplitude** of the wobble  \n",
    "  - how fast the star moves due to the planet's tug  \n",
    "  - measured in **m/s**  \n",
    "  - bigger \\( K \\) = heavier planet or closer orbit\n",
    "\n",
    "- \\( P \\): the **orbital period** of the planet (you already found this!)  \n",
    "  - measured in **days**  \n",
    "\n",
    "- \\( $\\phi$ \\): the **phase offset**  \n",
    "  - shifts the curve left or right  \n",
    "  - depends on where in the orbit you started observing\n",
    "\n",
    "- \\( $\\gamma$ \\): the **systemic velocity**  \n",
    "  - the average velocity of the star’s motion through space  \n",
    "  - we’re just watching the wiggle around that average\n",
    "\n",
    "Your job is to:\n",
    "1. Define the function\n",
    "2. Fit it to the data\n",
    "3. Extract \\( K \\), \\( $\\phi$ \\), and \\( $\\gamma$ \\)\n",
    "\n",
    "We’ll use `curve_fit`, which is like throwing a best-fit boomerang at your data."
   ]
  },
  {
   "cell_type": "code",
   "execution_count": 33,
   "id": "da9eac2a",
   "metadata": {},
   "outputs": [
    {
     "name": "stdout",
     "output_type": "stream",
     "text": [
      "Fitted semi-amplitude K = 49.84 m/s\n",
      "Phase offset φ = 0.37 rad\n",
      "Systemic velocity γ = -0.52 m/s\n"
     ]
    }
   ],
   "source": [
    "from scipy.optimize import curve_fit\n",
    "import numpy as np\n",
    "\n",
    "# Define the RV model function\n",
    "def rv_model(t, K, phi, gamma):\n",
    "    model =   # TODO: Define the model as shown in the cell above\n",
    "    return model\n",
    "\n",
    "# Initial guesses: amplitude, phase offset, systemic velocity\n",
    "p0 = [np.ptp(rv)/2, 0, np.mean(rv)]\n",
    "\n",
    "# Fit the model\n",
    "popt, pcov = curve_fit(rv_model, time, rv, sigma=rv_err, p0=p0)\n",
    "\n",
    "# Extract fit parameters\n",
    "K_fit, phi_fit, gamma_fit = popt\n",
    "print(f\"Fitted semi-amplitude K = {K_fit:.2f} m/s\")\n",
    "print(f\"Phase offset φ = {phi_fit:.2f} rad\")\n",
    "print(f\"Systemic velocity γ = {gamma_fit:.2f} m/s\")"
   ]
  },
  {
   "cell_type": "markdown",
   "id": "93735402",
   "metadata": {},
   "source": [
    "## 🪐 Step 6: Estimate the Planet's Minimum Mass\n",
    "\n",
    "Now that you’ve fitted the RV curve, you’ve got the **semi-amplitude \\( K \\)** — a direct clue to how massive the planet is.\n",
    "\n",
    "Let’s estimate the **minimum mass** of the planet, which we call:\n",
    "\\[\n",
    "M_p \\sin i\n",
    "\\]\n",
    "\n",
    "Why the \\( \\sin i \\)?  \n",
    "Because we can only see the velocity along our line of sight — not the full 3D motion — unless the system is edge-on (i.e. \\( i = 90^\\circ \\), like in transits).\n",
    "\n",
    "---\n",
    "\n",
    "### 🧠 The Formula (approximate, circular orbits):\n",
    "\n",
    "\\begin{equation}\n",
    "M_p \\sin i \\approx \\frac{K \\, P^{1/3} \\, M_\\star^{2/3}}{28.4}\n",
    "\\end{equation}\n",
    "\n",
    "Where:\n",
    "- \\( K \\) = RV semi-amplitude [m/s]  \n",
    "- \\( P \\) = orbital period [days]  \n",
    "- \\( $M_\\star$ \\) = stellar mass [solar masses]  \n",
    "- The output is in **Earth masses ($M_\\odot$)**\n",
    "\n",
    "This is a simplified version of the full Keplerian mass function, but it's very good for circular orbits and smallish planets.\n",
    "\n",
    "Time to plug and chug."
   ]
  },
  {
   "cell_type": "code",
   "execution_count": null,
   "id": "723edd1c",
   "metadata": {},
   "outputs": [],
   "source": [
    "# Use the values you already have\n",
    "K =                    # [m/s]\n",
    "P =                    # [days]\n",
    "M_star =               # Assume 1 solar mass (change if you're feeling wacky)\n",
    "\n",
    "# Approximate formula (from Kepler + unit conversion)\n",
    "Mpsini = # TODO: Use the equation for mass as defined above\n",
    "print(f\"Estimated M_p sin(i) ≈ {Mpsini:.2f} Earth Masses\")"
   ]
  },
  {
   "cell_type": "markdown",
   "id": "78ba7dad",
   "metadata": {},
   "source": [
    "## ⚖️ Step 7 : Compare to a real planet\n",
    "\n",
    "Based on your estimates — period, RV amplitude, and minimum mass — what kind of planet is this?\n",
    "\n",
    "Try searching for planets with similar:\n",
    "- \\( $P$ \\) = orbital period\n",
    "- \\( $M_p \\sin i$ \\) = minimum mass\n",
    "\n",
    "👉 Use this site: [https://exoplanet.eu/catalog/](https://exoplanet.eu/catalog/)\n",
    "\n",
    "Does your fake planet resemble:\n",
    "- A hot Jupiter?\n",
    "- A mini-Neptune?\n",
    "- A weirdo nobody’s ever found?\n",
    "\n",
    "Drop your thoughts below:"
   ]
  },
  {
   "cell_type": "markdown",
   "id": "701eff9b",
   "metadata": {},
   "source": [
    "TODO: Write a short description of what kind of planet you think you've detected\n",
    "\n",
    "(Double click the cell to edit it)"
   ]
  },
  {
   "cell_type": "markdown",
   "id": "0e07b687",
   "metadata": {},
   "source": [
    "## 🎛️ Step 8: Play with the Planet Parameters\n",
    "\n",
    "Now it’s your turn to be the exoplanet God.\n",
    "\n",
    "Below is a cell where you can tweak the fake planet’s properties:\n",
    "- \\( $P$ \\): orbital period  \n",
    "- \\( $K$ \\): RV semi-amplitude  \n",
    "- \\( $\\phi$ \\): phase offset  \n",
    "- \\( $\\gamma$ \\): systemic velocity  \n",
    "- \\( $\\sigma$ \\): noise level  \n",
    "\n",
    "Try generating different fake planets and rerun the notebook from the top:\n",
    "- What happens if the period is longer?\n",
    "- What if the planet is tiny (small K)?\n",
    "- At what point does the signal vanish in the noise?\n",
    "\n",
    "Break things. Fix them. Learn stuff."
   ]
  },
  {
   "cell_type": "code",
   "execution_count": null,
   "id": "cf8823dd",
   "metadata": {},
   "outputs": [],
   "source": [
    "# PARAMETERS for your fake planet\n",
    "P = 5.0               # orbital period [days]\n",
    "K = 50.0              # semi-amplitude [m/s]\n",
    "phi = 0.5             # phase offset [radians]\n",
    "gamma = 0.0           # systemic velocity [m/s]\n",
    "t_span = 30           # observation window [days]\n",
    "n_points = 40         # number of observations\n",
    "jitter = 1.0          # noise level [m/s]\n",
    "\n",
    "# Generate timestamps\n",
    "time = np.sort(np.random.uniform(0, t_span, n_points))\n",
    "\n",
    "# True RV model\n",
    "rv_true = K * np.sin(2 * np.pi * time / P + phi) + gamma\n",
    "\n",
    "# Add noise\n",
    "noise = np.random.normal(0, jitter, size=n_points)\n",
    "rv_obs = rv_true + noise\n",
    "\n",
    "# Save to CSV\n",
    "import pandas as pd\n",
    "df = pd.DataFrame({'time': time, 'rv': rv_obs, 'rv_err': np.full(n_points, jitter)})\n",
    "df.to_csv(\"fake_rv_planet.csv\", index=False)\n",
    "\n",
    "# Plot\n",
    "plt.errorbar(time, rv_obs, yerr=jitter, fmt='o')\n",
    "plt.xlabel(\"Time [days]\")\n",
    "plt.ylabel(\"RV [m/s]\")\n",
    "plt.show()"
   ]
  },
  {
   "cell_type": "markdown",
   "id": "6abfc598",
   "metadata": {},
   "source": [
    "## 🔀 Step 9: Add Some Eccentricity\n",
    "\n",
    "So far, we’ve assumed our planet orbits in a perfect circle — which is adorable but wrong.  \n",
    "Most real exoplanets have at least **some** orbital eccentricity. That means:\n",
    "\n",
    "- The star moves faster near **periastron** (closest point),\n",
    "- Slower near **apastron** (farthest point),\n",
    "- The RV curve is **no longer a perfect sine wave**.\n",
    "\n",
    "To model this properly, we’ll use a slightly more complicated RV function based on orbital mechanics.\n",
    "\n",
    "Let’s generate a fake planet with an eccentric orbit and compare the RV shape to a circular one."
   ]
  },
  {
   "cell_type": "code",
   "execution_count": 37,
   "id": "d01f29e1",
   "metadata": {},
   "outputs": [
    {
     "data": {
      "image/png": "[encoded data removed]",
      "text/plain": [
       "<Figure size 1000x500 with 1 Axes>"
      ]
     },
     "metadata": {},
     "output_type": "display_data"
    }
   ],
   "source": [
    "from scipy.optimize import newton\n",
    "\n",
    "# Orbital parameters\n",
    "P = 12.0             # period [days]\n",
    "K = 40.0             # semi-amplitude [m/s]\n",
    "e = 0.5              # eccentricity (try 0.0, 0.3, 0.6, etc.)\n",
    "omega = np.pi/3      # argument of periastron [radians]\n",
    "gamma = 0.0          # systemic velocity [m/s]\n",
    "phi = 0              # phase offset [ignored for now]\n",
    "jitter = 2.0\n",
    "t_span = 40\n",
    "n_points = 120\n",
    "\n",
    "# Generate times\n",
    "time = np.sort(np.random.uniform(0, t_span, n_points))\n",
    "M = 2 * np.pi * (time % P) / P  # Mean anomaly\n",
    "\n",
    "# Solve Kepler’s equation: M = E - e sin(E)\n",
    "def solve_kepler(M_array, e):\n",
    "    E_array = []\n",
    "    for M in M_array:\n",
    "        func = lambda E: E - e * np.sin(E) - M\n",
    "        E_root = newton(func, M)  # use M as initial guess\n",
    "        E_array.append(E_root)\n",
    "    return np.array(E_array)\n",
    "\n",
    "E = solve_kepler(M, e)\n",
    "# True anomaly f\n",
    "f = 2 * np.arctan2(np.sqrt(1+e)*np.sin(E/2), np.sqrt(1-e)*np.cos(E/2))\n",
    "# RV equation for eccentric orbit\n",
    "rv_ecc = K * (np.cos(f + omega) + e * np.cos(omega)) + gamma\n",
    "rv_obs = rv_ecc + np.random.normal(0, jitter, n_points)\n",
    "\n",
    "# Save to CSV\n",
    "df = pd.DataFrame({'time': time, 'rv': rv_obs, 'rv_err': np.full(n_points, jitter)})\n",
    "df.to_csv(\"fake_eccentric_rv.csv\", index=False)\n",
    "\n",
    "# Plot it\n",
    "plt.figure(figsize=(10,5))\n",
    "plt.errorbar(time, rv_obs, yerr=jitter, fmt='o', capsize=3)\n",
    "plt.xlabel(\"Time [days]\")\n",
    "plt.ylabel(\"RV [m/s]\")\n",
    "plt.title(f\"RV Curve with Eccentricity e = {e}\")\n",
    "plt.show()"
   ]
  },
  {
   "cell_type": "markdown",
   "id": "961c899a",
   "metadata": {},
   "source": [
    "### 🎭 What to observe:\n",
    "\n",
    "- Is the RV curve still symmetric?\n",
    "- Does the star seem to \"speed up\" near some parts of the orbit? If so, why?\n",
    "- What happens if you change `e` from 0.0 → 0.3 → 0.6 → 0.9?\n",
    "- Try comparing an eccentric curve with a circular one on the same plot.\n",
    "\n",
    "This is why astronomers fit for **eccentricity** and **argument of periastron** — real planets are weirdos."
   ]
  },
  {
   "cell_type": "code",
   "execution_count": null,
   "id": "907bb56a",
   "metadata": {},
   "outputs": [],
   "source": []
  }
 ],
 "metadata": {
  "kernelspec": {
   "display_name": "Python 3 (ipykernel)",
   "language": "python",
   "name": "python3"
  },
  "language_info": {
   "codemirror_mode": {
    "name": "ipython",
    "version": 3
   },
   "file_extension": ".py",
   "mimetype": "text/x-python",
   "name": "python",
   "nbconvert_exporter": "python",
   "pygments_lexer": "ipython3",
   "version": "3.11.4"
  }
 },
 "nbformat": 4,
 "nbformat_minor": 5
}
