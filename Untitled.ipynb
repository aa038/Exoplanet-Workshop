{
 "cells": [
  {
   "cell_type": "markdown",
   "id": "dbc2b8f6",
   "metadata": {},
   "source": [
    "# Loops"
   ]
  },
  {
   "cell_type": "markdown",
   "id": "a1e2774d",
   "metadata": {},
   "source": [
    "## Why do we need loops?"
   ]
  },
  {
   "cell_type": "markdown",
   "id": "62be72c1",
   "metadata": {},
   "source": [
    "Assume you want to print all the numbers from 1-10. You could go:"
   ]
  },
  {
   "cell_type": "code",
   "execution_count": 1,
   "id": "b6fbb182",
   "metadata": {},
   "outputs": [
    {
     "name": "stdout",
     "output_type": "stream",
     "text": [
      "1\n",
      "2\n",
      "3\n",
      "4\n",
      "5\n",
      "6\n",
      "7\n",
      "8\n",
      "9\n",
      "10\n"
     ]
    }
   ],
   "source": [
    "print(1)\n",
    "print(2)\n",
    "print(3)\n",
    "print(4)\n",
    "print(5)\n",
    "print(6)\n",
    "print(7)\n",
    "print(8)\n",
    "print(9)\n",
    "print(10)"
   ]
  },
  {
   "cell_type": "markdown",
   "id": "768b9c8e",
   "metadata": {},
   "source": [
    "What if you wanted all the numbers till 1,000? I'm not typing that\n",
    "\n",
    "Instead, you write:"
   ]
  },
  {
   "cell_type": "code",
   "execution_count": null,
   "id": "fbf2b632",
   "metadata": {},
   "outputs": [],
   "source": [
    "# for loop \n"
   ]
  },
  {
   "cell_type": "markdown",
   "id": "013472bc",
   "metadata": {},
   "source": [
    "## Looping over items in a list"
   ]
  },
  {
   "cell_type": "code",
   "execution_count": 5,
   "id": "d5370cc4",
   "metadata": {},
   "outputs": [
    {
     "name": "stdout",
     "output_type": "stream",
     "text": [
      " But I would walk 500 miles, \n",
      " And I would walk 500 more, \n",
      " Just to be the man \n",
      " Who walks a thousand miles to fall down at your door "
     ]
    }
   ],
   "source": [
    "lyrics_to_500_miles = [' But', 'I', 'would', 'walk', '500', 'miles,', '\\n', 'And', 'I', 'would', 'walk', '500', 'more,', '\\n', 'Just', 'to', 'be', 'the', 'man', '\\n Who', 'walks', 'a', 'thousand', 'miles', 'to', 'fall', 'down', 'at', 'your', 'door']"
   ]
  },
  {
   "cell_type": "code",
   "execution_count": null,
   "id": "e34ac515",
   "metadata": {},
   "outputs": [],
   "source": []
  }
 ],
 "metadata": {
  "kernelspec": {
   "display_name": "Python 3 (ipykernel)",
   "language": "python",
   "name": "python3"
  },
  "language_info": {
   "codemirror_mode": {
    "name": "ipython",
    "version": 3
   },
   "file_extension": ".py",
   "mimetype": "text/x-python",
   "name": "python",
   "nbconvert_exporter": "python",
   "pygments_lexer": "ipython3",
   "version": "3.11.4"
  }
 },
 "nbformat": 4,
 "nbformat_minor": 5
}
